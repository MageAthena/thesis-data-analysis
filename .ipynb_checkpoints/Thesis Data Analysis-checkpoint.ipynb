{
 "cells": [
  {
   "cell_type": "markdown",
   "id": "ee5347a5",
   "metadata": {},
   "source": [
    "# Initial Libraries"
   ]
  },
  {
   "cell_type": "code",
   "execution_count": 1,
   "id": "7a30e332",
   "metadata": {},
   "outputs": [],
   "source": [
    "import pandas as pd \n",
    "import numpy as np \n",
    "import math\n",
    "from scipy.stats import ttest_ind\n",
    "from scipy.stats import ttest_rel\n",
    "from scipy.stats import mannwhitneyu\n",
    "from scipy.stats import wilcoxon\n",
    "import matplotlib.pyplot as plt"
   ]
  },
  {
   "cell_type": "markdown",
   "id": "0af17b74",
   "metadata": {},
   "source": [
    "# Data Import and Cleaning"
   ]
  },
  {
   "cell_type": "code",
   "execution_count": 2,
   "id": "8860edc0",
   "metadata": {},
   "outputs": [
    {
     "data": {
      "text/html": [
       "<div>\n",
       "<style scoped>\n",
       "    .dataframe tbody tr th:only-of-type {\n",
       "        vertical-align: middle;\n",
       "    }\n",
       "\n",
       "    .dataframe tbody tr th {\n",
       "        vertical-align: top;\n",
       "    }\n",
       "\n",
       "    .dataframe thead th {\n",
       "        text-align: right;\n",
       "    }\n",
       "</style>\n",
       "<table border=\"1\" class=\"dataframe\">\n",
       "  <thead>\n",
       "    <tr style=\"text-align: right;\">\n",
       "      <th></th>\n",
       "      <th>Timestamp</th>\n",
       "      <th>Which visualisation did you use?</th>\n",
       "      <th>How much did the visualisation benefit your understanding?</th>\n",
       "      <th>About how far above the Earth are geostationary satellites? (in terms of the radius of the Earth)</th>\n",
       "      <th>About how far above the Earth are Low Earth Orbit satellites? (in terms of the radius of the Earth)</th>\n",
       "      <th>When a satellite gets closer to the Earth in its orbit, does its speed:</th>\n",
       "      <th>About how many satellites are in orbit?</th>\n",
       "      <th>Compared to satellites further away from the earth, do lower orbit satellites:</th>\n",
       "      <th>What did you find helped the most with your understanding?</th>\n",
       "      <th>What aspect of the visualisation could use the most improvement?</th>\n",
       "    </tr>\n",
       "  </thead>\n",
       "  <tbody>\n",
       "    <tr>\n",
       "      <th>0</th>\n",
       "      <td>07/09/2022 09:19:12</td>\n",
       "      <td>Augmented Reality</td>\n",
       "      <td>3</td>\n",
       "      <td>1.0</td>\n",
       "      <td>3.000</td>\n",
       "      <td>Speed up</td>\n",
       "      <td>250</td>\n",
       "      <td>Move faster</td>\n",
       "      <td>NaN</td>\n",
       "      <td>Goggles didn’t fit as well/had latency errors.</td>\n",
       "    </tr>\n",
       "    <tr>\n",
       "      <th>1</th>\n",
       "      <td>07/09/2022 09:21:21</td>\n",
       "      <td>Augmented Reality</td>\n",
       "      <td>3</td>\n",
       "      <td>8.0</td>\n",
       "      <td>0.080</td>\n",
       "      <td>Speed up</td>\n",
       "      <td>1000</td>\n",
       "      <td>Move faster</td>\n",
       "      <td>The visualisation from space</td>\n",
       "      <td>Wearing the glasses can be disorienting. Unsur...</td>\n",
       "    </tr>\n",
       "    <tr>\n",
       "      <th>2</th>\n",
       "      <td>07/09/2022 09:29:26</td>\n",
       "      <td>Augmented Reality</td>\n",
       "      <td>5</td>\n",
       "      <td>6.0</td>\n",
       "      <td>0.100</td>\n",
       "      <td>Slow down</td>\n",
       "      <td>4000</td>\n",
       "      <td>Move slower</td>\n",
       "      <td>Understanding the position of the satellites r...</td>\n",
       "      <td>An introduction /onboarding process with a des...</td>\n",
       "    </tr>\n",
       "    <tr>\n",
       "      <th>3</th>\n",
       "      <td>07/09/2022 09:37:01</td>\n",
       "      <td>Augmented Reality</td>\n",
       "      <td>3</td>\n",
       "      <td>40000.0</td>\n",
       "      <td>10000.000</td>\n",
       "      <td>Speed up</td>\n",
       "      <td>1000</td>\n",
       "      <td>Move faster</td>\n",
       "      <td>the orbit of the satellites</td>\n",
       "      <td>Maybe specify what does each different colour ...</td>\n",
       "    </tr>\n",
       "    <tr>\n",
       "      <th>4</th>\n",
       "      <td>07/09/2022 09:40:17</td>\n",
       "      <td>Augmented Reality</td>\n",
       "      <td>4</td>\n",
       "      <td>35800.0</td>\n",
       "      <td>0.313</td>\n",
       "      <td>Speed up</td>\n",
       "      <td>4550</td>\n",
       "      <td>Move slower</td>\n",
       "      <td>The mode and the speed setting of the moving o...</td>\n",
       "      <td>Ground view, it can not really show the positi...</td>\n",
       "    </tr>\n",
       "  </tbody>\n",
       "</table>\n",
       "</div>"
      ],
      "text/plain": [
       "             Timestamp Which visualisation did you use?  \\\n",
       "0  07/09/2022 09:19:12                Augmented Reality   \n",
       "1  07/09/2022 09:21:21                Augmented Reality   \n",
       "2  07/09/2022 09:29:26                Augmented Reality   \n",
       "3  07/09/2022 09:37:01                Augmented Reality   \n",
       "4  07/09/2022 09:40:17                Augmented Reality   \n",
       "\n",
       "   How much did the visualisation benefit your understanding?  \\\n",
       "0                                                  3            \n",
       "1                                                  3            \n",
       "2                                                  5            \n",
       "3                                                  3            \n",
       "4                                                  4            \n",
       "\n",
       "   About how far above the Earth are geostationary satellites? (in terms of the radius of the Earth)  \\\n",
       "0                                                1.0                                                   \n",
       "1                                                8.0                                                   \n",
       "2                                                6.0                                                   \n",
       "3                                            40000.0                                                   \n",
       "4                                            35800.0                                                   \n",
       "\n",
       "   About how far above the Earth are Low Earth Orbit satellites? (in terms of the radius of the Earth)  \\\n",
       "0                                              3.000                                                     \n",
       "1                                              0.080                                                     \n",
       "2                                              0.100                                                     \n",
       "3                                          10000.000                                                     \n",
       "4                                              0.313                                                     \n",
       "\n",
       "  When a satellite gets closer to the Earth in its orbit, does its speed:  \\\n",
       "0                                           Speed up                        \n",
       "1                                           Speed up                        \n",
       "2                                          Slow down                        \n",
       "3                                           Speed up                        \n",
       "4                                           Speed up                        \n",
       "\n",
       "   About how many satellites are in orbit?  \\\n",
       "0                                      250   \n",
       "1                                     1000   \n",
       "2                                     4000   \n",
       "3                                     1000   \n",
       "4                                     4550   \n",
       "\n",
       "  Compared to satellites further away from the earth, do lower orbit satellites:  \\\n",
       "0                                        Move faster                               \n",
       "1                                        Move faster                               \n",
       "2                                        Move slower                               \n",
       "3                                        Move faster                               \n",
       "4                                        Move slower                               \n",
       "\n",
       "  What did you find helped the most with your understanding?  \\\n",
       "0                                                NaN           \n",
       "1                       The visualisation from space           \n",
       "2  Understanding the position of the satellites r...           \n",
       "3                        the orbit of the satellites           \n",
       "4  The mode and the speed setting of the moving o...           \n",
       "\n",
       "  What aspect of the visualisation could use the most improvement?  \n",
       "0     Goggles didn’t fit as well/had latency errors.                \n",
       "1  Wearing the glasses can be disorienting. Unsur...                \n",
       "2  An introduction /onboarding process with a des...                \n",
       "3  Maybe specify what does each different colour ...                \n",
       "4  Ground view, it can not really show the positi...                "
      ]
     },
     "execution_count": 2,
     "metadata": {},
     "output_type": "execute_result"
    }
   ],
   "source": [
    "# Import the basic data\n",
    "\n",
    "pre_data_base = pd.read_csv('pre_responses.csv')  \n",
    "post_data_base = pd.read_csv('post_responses.csv')\n",
    "post_data_base.head()"
   ]
  },
  {
   "cell_type": "code",
   "execution_count": 3,
   "id": "a9581605",
   "metadata": {},
   "outputs": [],
   "source": [
    "#Remove timestamps and open textbox commentary\n",
    "\n",
    "pre_data = pre_data_base.drop(columns=['Timestamp'])\n",
    "post_data = post_data_base.drop(columns=[\n",
    "    'Timestamp',\n",
    "    'What did you find helped the most with your understanding?',\n",
    "    'What aspect of the visualisation could use the most improvement?',\n",
    "])"
   ]
  },
  {
   "cell_type": "code",
   "execution_count": 4,
   "id": "d2a03358",
   "metadata": {},
   "outputs": [
    {
     "data": {
      "text/html": [
       "<div>\n",
       "<style scoped>\n",
       "    .dataframe tbody tr th:only-of-type {\n",
       "        vertical-align: middle;\n",
       "    }\n",
       "\n",
       "    .dataframe tbody tr th {\n",
       "        vertical-align: top;\n",
       "    }\n",
       "\n",
       "    .dataframe thead th {\n",
       "        text-align: right;\n",
       "    }\n",
       "</style>\n",
       "<table border=\"1\" class=\"dataframe\">\n",
       "  <thead>\n",
       "    <tr style=\"text-align: right;\">\n",
       "      <th></th>\n",
       "      <th>Visualisation</th>\n",
       "      <th>ImproveKnowledge</th>\n",
       "      <th>GeoHeight</th>\n",
       "      <th>LeoHeight</th>\n",
       "      <th>Close</th>\n",
       "      <th>SatNum</th>\n",
       "      <th>OrbitSpeed</th>\n",
       "    </tr>\n",
       "  </thead>\n",
       "  <tbody>\n",
       "    <tr>\n",
       "      <th>0</th>\n",
       "      <td>Augmented Reality</td>\n",
       "      <td>3</td>\n",
       "      <td>1.0</td>\n",
       "      <td>3.000</td>\n",
       "      <td>Speed up</td>\n",
       "      <td>250</td>\n",
       "      <td>Move faster</td>\n",
       "    </tr>\n",
       "    <tr>\n",
       "      <th>1</th>\n",
       "      <td>Augmented Reality</td>\n",
       "      <td>3</td>\n",
       "      <td>8.0</td>\n",
       "      <td>0.080</td>\n",
       "      <td>Speed up</td>\n",
       "      <td>1000</td>\n",
       "      <td>Move faster</td>\n",
       "    </tr>\n",
       "    <tr>\n",
       "      <th>2</th>\n",
       "      <td>Augmented Reality</td>\n",
       "      <td>5</td>\n",
       "      <td>6.0</td>\n",
       "      <td>0.100</td>\n",
       "      <td>Slow down</td>\n",
       "      <td>4000</td>\n",
       "      <td>Move slower</td>\n",
       "    </tr>\n",
       "    <tr>\n",
       "      <th>3</th>\n",
       "      <td>Augmented Reality</td>\n",
       "      <td>3</td>\n",
       "      <td>40000.0</td>\n",
       "      <td>10000.000</td>\n",
       "      <td>Speed up</td>\n",
       "      <td>1000</td>\n",
       "      <td>Move faster</td>\n",
       "    </tr>\n",
       "    <tr>\n",
       "      <th>4</th>\n",
       "      <td>Augmented Reality</td>\n",
       "      <td>4</td>\n",
       "      <td>35800.0</td>\n",
       "      <td>0.313</td>\n",
       "      <td>Speed up</td>\n",
       "      <td>4550</td>\n",
       "      <td>Move slower</td>\n",
       "    </tr>\n",
       "  </tbody>\n",
       "</table>\n",
       "</div>"
      ],
      "text/plain": [
       "       Visualisation  ImproveKnowledge  GeoHeight  LeoHeight      Close  \\\n",
       "0  Augmented Reality                 3        1.0      3.000   Speed up   \n",
       "1  Augmented Reality                 3        8.0      0.080   Speed up   \n",
       "2  Augmented Reality                 5        6.0      0.100  Slow down   \n",
       "3  Augmented Reality                 3    40000.0  10000.000   Speed up   \n",
       "4  Augmented Reality                 4    35800.0      0.313   Speed up   \n",
       "\n",
       "   SatNum   OrbitSpeed  \n",
       "0     250  Move faster  \n",
       "1    1000  Move faster  \n",
       "2    4000  Move slower  \n",
       "3    1000  Move faster  \n",
       "4    4550  Move slower  "
      ]
     },
     "execution_count": 4,
     "metadata": {},
     "output_type": "execute_result"
    }
   ],
   "source": [
    "# Rename columns for easier indexing\n",
    "\n",
    "pre_data = pre_data.rename(columns={\n",
    "    \"Which visualisation did you use?\":\"Visualisation\",\n",
    "    \"How would you rate your prior knowledge of satellites?\": \"PriorKnowledge\", \n",
    "    \"About how far above the Earth are geostationary satellites? (in terms of the radius of the Earth)\": \"GeoHeight\",\n",
    "    \"About how far above the Earth are Low Earth Orbit satellites? (in terms of the radius of the Earth)\": \"LeoHeight\",\n",
    "    \"When a satellite gets closer to the Earth in its orbit, does its speed:\": \"Close\",\n",
    "    \"About how many satellites are in orbit?\": \"SatNum\",\n",
    "    \"Compared to satellites further away from the earth, do lower orbit satellites:\": \"OrbitSpeed\",\n",
    "})\n",
    "post_data = post_data.rename(columns={\n",
    "    \"Which visualisation did you use?\":\"Visualisation\",\n",
    "    \"How much did the visualisation benefit your understanding?\": \"ImproveKnowledge\", \n",
    "    \"About how far above the Earth are geostationary satellites? (in terms of the radius of the Earth)\": \"GeoHeight\",\n",
    "    \"About how far above the Earth are Low Earth Orbit satellites? (in terms of the radius of the Earth)\": \"LeoHeight\",\n",
    "    \"When a satellite gets closer to the Earth in its orbit, does its speed:\": \"Close\",\n",
    "    \"About how many satellites are in orbit?\": \"SatNum\",\n",
    "    \"Compared to satellites further away from the earth, do lower orbit satellites:\": \"OrbitSpeed\",\n",
    "})\n",
    "post_data.head()\n"
   ]
  },
  {
   "cell_type": "markdown",
   "id": "be8834c7",
   "metadata": {},
   "source": [
    "A number of responders input numbers that are close to the true value of the geostationary height in kilometers, or input values that are much larger than would be possible, given that the inital question asked in terms of the radius of the Earth. As a result, a cutoff of 1000 was chosen, and any value above would be interpreted as in km, and any value below in terms of the radius of the Earth."
   ]
  },
  {
   "cell_type": "code",
   "execution_count": 5,
   "id": "072770c0",
   "metadata": {},
   "outputs": [
    {
     "data": {
      "text/html": [
       "<div>\n",
       "<style scoped>\n",
       "    .dataframe tbody tr th:only-of-type {\n",
       "        vertical-align: middle;\n",
       "    }\n",
       "\n",
       "    .dataframe tbody tr th {\n",
       "        vertical-align: top;\n",
       "    }\n",
       "\n",
       "    .dataframe thead th {\n",
       "        text-align: right;\n",
       "    }\n",
       "</style>\n",
       "<table border=\"1\" class=\"dataframe\">\n",
       "  <thead>\n",
       "    <tr style=\"text-align: right;\">\n",
       "      <th></th>\n",
       "      <th>Visualisation</th>\n",
       "      <th>ImproveKnowledge</th>\n",
       "      <th>GeoHeight</th>\n",
       "      <th>LeoHeight</th>\n",
       "      <th>Close</th>\n",
       "      <th>SatNum</th>\n",
       "      <th>OrbitSpeed</th>\n",
       "    </tr>\n",
       "  </thead>\n",
       "  <tbody>\n",
       "    <tr>\n",
       "      <th>0</th>\n",
       "      <td>Augmented Reality</td>\n",
       "      <td>3</td>\n",
       "      <td>1.000000</td>\n",
       "      <td>3.000000</td>\n",
       "      <td>Speed up</td>\n",
       "      <td>250</td>\n",
       "      <td>Move faster</td>\n",
       "    </tr>\n",
       "    <tr>\n",
       "      <th>1</th>\n",
       "      <td>Augmented Reality</td>\n",
       "      <td>3</td>\n",
       "      <td>8.000000</td>\n",
       "      <td>0.080000</td>\n",
       "      <td>Speed up</td>\n",
       "      <td>1000</td>\n",
       "      <td>Move faster</td>\n",
       "    </tr>\n",
       "    <tr>\n",
       "      <th>2</th>\n",
       "      <td>Augmented Reality</td>\n",
       "      <td>5</td>\n",
       "      <td>6.000000</td>\n",
       "      <td>0.100000</td>\n",
       "      <td>Slow down</td>\n",
       "      <td>4000</td>\n",
       "      <td>Move slower</td>\n",
       "    </tr>\n",
       "    <tr>\n",
       "      <th>3</th>\n",
       "      <td>Augmented Reality</td>\n",
       "      <td>3</td>\n",
       "      <td>6.279435</td>\n",
       "      <td>1.569859</td>\n",
       "      <td>Speed up</td>\n",
       "      <td>1000</td>\n",
       "      <td>Move faster</td>\n",
       "    </tr>\n",
       "    <tr>\n",
       "      <th>4</th>\n",
       "      <td>Augmented Reality</td>\n",
       "      <td>4</td>\n",
       "      <td>5.620094</td>\n",
       "      <td>0.313000</td>\n",
       "      <td>Speed up</td>\n",
       "      <td>4550</td>\n",
       "      <td>Move slower</td>\n",
       "    </tr>\n",
       "  </tbody>\n",
       "</table>\n",
       "</div>"
      ],
      "text/plain": [
       "       Visualisation  ImproveKnowledge  GeoHeight  LeoHeight      Close  \\\n",
       "0  Augmented Reality                 3   1.000000   3.000000   Speed up   \n",
       "1  Augmented Reality                 3   8.000000   0.080000   Speed up   \n",
       "2  Augmented Reality                 5   6.000000   0.100000  Slow down   \n",
       "3  Augmented Reality                 3   6.279435   1.569859   Speed up   \n",
       "4  Augmented Reality                 4   5.620094   0.313000   Speed up   \n",
       "\n",
       "   SatNum   OrbitSpeed  \n",
       "0     250  Move faster  \n",
       "1    1000  Move faster  \n",
       "2    4000  Move slower  \n",
       "3    1000  Move faster  \n",
       "4    4550  Move slower  "
      ]
     },
     "execution_count": 5,
     "metadata": {},
     "output_type": "execute_result"
    }
   ],
   "source": [
    "# Transform all values above the threshold from km into earth radii\n",
    "\n",
    "radius_threshold = 1000\n",
    "earth_radius = 6370 # in km\n",
    "pre_data.GeoHeight = pre_data.GeoHeight.apply(lambda x: x/earth_radius if x >= radius_threshold else x)\n",
    "pre_data.LeoHeight = pre_data.LeoHeight.apply(lambda x: x/earth_radius if x >= radius_threshold else x)\n",
    "post_data.GeoHeight = post_data.GeoHeight.apply(lambda x: x/earth_radius if x >= radius_threshold else x)\n",
    "post_data.LeoHeight = post_data.LeoHeight.apply(lambda x: x/earth_radius if x >= radius_threshold else x)\n",
    "post_data.head()"
   ]
  },
  {
   "cell_type": "markdown",
   "id": "0772ef9e",
   "metadata": {},
   "source": [
    "# Data Analysis"
   ]
  },
  {
   "cell_type": "markdown",
   "id": "c3887365",
   "metadata": {},
   "source": [
    "## Post-Visualisation Comparison"
   ]
  },
  {
   "cell_type": "markdown",
   "id": "505f7e45",
   "metadata": {},
   "source": [
    "In astrophysics, data often spans many orders of magnitude. To help compensate for this, and equally weight errors that underestimate and overestimate the true values, the logarithm of the heights and the number of satellites are taken. This means that an estimate of 10 and 1000 (where the true value is 100) are counted equally, rather than the latter having ten times the weight."
   ]
  },
  {
   "cell_type": "code",
   "execution_count": 6,
   "id": "6845b7db",
   "metadata": {},
   "outputs": [
    {
     "data": {
      "text/html": [
       "<div>\n",
       "<style scoped>\n",
       "    .dataframe tbody tr th:only-of-type {\n",
       "        vertical-align: middle;\n",
       "    }\n",
       "\n",
       "    .dataframe tbody tr th {\n",
       "        vertical-align: top;\n",
       "    }\n",
       "\n",
       "    .dataframe thead th {\n",
       "        text-align: right;\n",
       "    }\n",
       "</style>\n",
       "<table border=\"1\" class=\"dataframe\">\n",
       "  <thead>\n",
       "    <tr style=\"text-align: right;\">\n",
       "      <th></th>\n",
       "      <th>Visualisation</th>\n",
       "      <th>ImproveKnowledge</th>\n",
       "      <th>GeoHeight</th>\n",
       "      <th>LeoHeight</th>\n",
       "      <th>Close</th>\n",
       "      <th>SatNum</th>\n",
       "      <th>OrbitSpeed</th>\n",
       "    </tr>\n",
       "  </thead>\n",
       "  <tbody>\n",
       "    <tr>\n",
       "      <th>0</th>\n",
       "      <td>Augmented Reality</td>\n",
       "      <td>3</td>\n",
       "      <td>0.000000</td>\n",
       "      <td>0.477121</td>\n",
       "      <td>Speed up</td>\n",
       "      <td>2.397940</td>\n",
       "      <td>Move faster</td>\n",
       "    </tr>\n",
       "    <tr>\n",
       "      <th>1</th>\n",
       "      <td>Augmented Reality</td>\n",
       "      <td>3</td>\n",
       "      <td>0.903090</td>\n",
       "      <td>-1.096910</td>\n",
       "      <td>Speed up</td>\n",
       "      <td>3.000000</td>\n",
       "      <td>Move faster</td>\n",
       "    </tr>\n",
       "    <tr>\n",
       "      <th>2</th>\n",
       "      <td>Augmented Reality</td>\n",
       "      <td>5</td>\n",
       "      <td>0.778151</td>\n",
       "      <td>-1.000000</td>\n",
       "      <td>Slow down</td>\n",
       "      <td>3.602060</td>\n",
       "      <td>Move slower</td>\n",
       "    </tr>\n",
       "    <tr>\n",
       "      <th>3</th>\n",
       "      <td>Augmented Reality</td>\n",
       "      <td>3</td>\n",
       "      <td>0.797921</td>\n",
       "      <td>0.195861</td>\n",
       "      <td>Speed up</td>\n",
       "      <td>3.000000</td>\n",
       "      <td>Move faster</td>\n",
       "    </tr>\n",
       "    <tr>\n",
       "      <th>4</th>\n",
       "      <td>Augmented Reality</td>\n",
       "      <td>4</td>\n",
       "      <td>0.749744</td>\n",
       "      <td>-0.504456</td>\n",
       "      <td>Speed up</td>\n",
       "      <td>3.658011</td>\n",
       "      <td>Move slower</td>\n",
       "    </tr>\n",
       "  </tbody>\n",
       "</table>\n",
       "</div>"
      ],
      "text/plain": [
       "       Visualisation  ImproveKnowledge  GeoHeight  LeoHeight      Close  \\\n",
       "0  Augmented Reality                 3   0.000000   0.477121   Speed up   \n",
       "1  Augmented Reality                 3   0.903090  -1.096910   Speed up   \n",
       "2  Augmented Reality                 5   0.778151  -1.000000  Slow down   \n",
       "3  Augmented Reality                 3   0.797921   0.195861   Speed up   \n",
       "4  Augmented Reality                 4   0.749744  -0.504456   Speed up   \n",
       "\n",
       "     SatNum   OrbitSpeed  \n",
       "0  2.397940  Move faster  \n",
       "1  3.000000  Move faster  \n",
       "2  3.602060  Move slower  \n",
       "3  3.000000  Move faster  \n",
       "4  3.658011  Move slower  "
      ]
     },
     "execution_count": 6,
     "metadata": {},
     "output_type": "execute_result"
    }
   ],
   "source": [
    "# Take the logs of all the lines\n",
    "\n",
    "pre_data_log = pre_data;\n",
    "pre_data_log.GeoHeight = np.log10(pre_data_log.GeoHeight)\n",
    "pre_data_log.LeoHeight = np.log10(pre_data_log.LeoHeight)\n",
    "pre_data_log.SatNum = np.log10(pre_data_log.SatNum)\n",
    "\n",
    "post_data_log = post_data;\n",
    "post_data_log.GeoHeight = np.log10(post_data_log.GeoHeight)\n",
    "post_data_log.LeoHeight = np.log10(post_data_log.LeoHeight)\n",
    "post_data_log.SatNum = np.log10(post_data_log.SatNum)\n",
    "\n",
    "post_data_log.head()"
   ]
  },
  {
   "cell_type": "markdown",
   "id": "6175d163",
   "metadata": {},
   "source": [
    "Unfortunately, since TAROT has different data sources and formats, the list of Two Line Elements that it uses was different to the augmented reality version. As a result, the two have different numbers of satellites."
   ]
  },
  {
   "cell_type": "code",
   "execution_count": 7,
   "id": "78491ce8",
   "metadata": {},
   "outputs": [],
   "source": [
    "# Establish the true values\n",
    "\n",
    "true_geo_height = 35800 / earth_radius\n",
    "true_leo_height = 400 / earth_radius # Altitude of ISS\n",
    "true_sat_num_ar = 6350 # Value for AR\n",
    "true_sat_num_2d = 7850 # Value from TAROT, 26/09/2022\n",
    "\n",
    "log_geo_height = np.log10(true_geo_height)\n",
    "log_leo_height = np.log10(true_leo_height)\n",
    "log_sat_num_ar = np.log10(true_sat_num_ar)\n",
    "log_sat_num_2d = np.log10(true_sat_num_2d)\n"
   ]
  },
  {
   "cell_type": "code",
   "execution_count": 8,
   "id": "b11aa99a",
   "metadata": {},
   "outputs": [],
   "source": [
    "# Take the difference of the data from the true value\n",
    "\n",
    "pre_data_diff = pre_data_log\n",
    "pre_data_diff.GeoHeight = pre_data_diff.GeoHeight - log_geo_height\n",
    "pre_data_diff.LeoHeight = pre_data_diff.LeoHeight - log_leo_height\n",
    "\n",
    "pre_data_diff.loc[pre_data_diff['Visualisation']=='TAROT (2D)', 'SatNum'] -= log_sat_num_2d\n",
    "pre_data_diff.loc[pre_data_diff['Visualisation']=='Augmented Reality', 'SatNum'] -= log_sat_num_ar\n",
    "\n",
    "post_data_diff = post_data_log\n",
    "post_data_diff.GeoHeight = post_data_diff.GeoHeight - log_geo_height\n",
    "post_data_diff.LeoHeight = post_data_diff.LeoHeight - log_leo_height\n",
    "\n",
    "post_data_diff.loc[post_data_diff['Visualisation']=='TAROT (2D)', 'SatNum'] -= log_sat_num_2d\n",
    "post_data_diff.loc[post_data_diff['Visualisation']=='Augmented Reality', 'SatNum'] -= log_sat_num_ar"
   ]
  },
  {
   "cell_type": "code",
   "execution_count": 9,
   "id": "7e679c23",
   "metadata": {},
   "outputs": [
    {
     "data": {
      "text/html": [
       "<div>\n",
       "<style scoped>\n",
       "    .dataframe tbody tr th:only-of-type {\n",
       "        vertical-align: middle;\n",
       "    }\n",
       "\n",
       "    .dataframe tbody tr th {\n",
       "        vertical-align: top;\n",
       "    }\n",
       "\n",
       "    .dataframe thead th {\n",
       "        text-align: right;\n",
       "    }\n",
       "</style>\n",
       "<table border=\"1\" class=\"dataframe\">\n",
       "  <thead>\n",
       "    <tr style=\"text-align: right;\">\n",
       "      <th></th>\n",
       "      <th>Visualisation</th>\n",
       "      <th>ImproveKnowledge</th>\n",
       "      <th>GeoHeight</th>\n",
       "      <th>LeoHeight</th>\n",
       "      <th>Close</th>\n",
       "      <th>SatNum</th>\n",
       "      <th>OrbitSpeed</th>\n",
       "    </tr>\n",
       "  </thead>\n",
       "  <tbody>\n",
       "    <tr>\n",
       "      <th>0</th>\n",
       "      <td>Augmented Reality</td>\n",
       "      <td>3</td>\n",
       "      <td>-0.749744</td>\n",
       "      <td>1.679201</td>\n",
       "      <td>True</td>\n",
       "      <td>-1.404834</td>\n",
       "      <td>True</td>\n",
       "    </tr>\n",
       "    <tr>\n",
       "      <th>1</th>\n",
       "      <td>Augmented Reality</td>\n",
       "      <td>3</td>\n",
       "      <td>0.153346</td>\n",
       "      <td>0.105169</td>\n",
       "      <td>True</td>\n",
       "      <td>-0.802774</td>\n",
       "      <td>True</td>\n",
       "    </tr>\n",
       "    <tr>\n",
       "      <th>2</th>\n",
       "      <td>Augmented Reality</td>\n",
       "      <td>5</td>\n",
       "      <td>0.028408</td>\n",
       "      <td>0.202079</td>\n",
       "      <td>False</td>\n",
       "      <td>-0.200714</td>\n",
       "      <td>False</td>\n",
       "    </tr>\n",
       "    <tr>\n",
       "      <th>3</th>\n",
       "      <td>Augmented Reality</td>\n",
       "      <td>3</td>\n",
       "      <td>0.048177</td>\n",
       "      <td>1.397940</td>\n",
       "      <td>True</td>\n",
       "      <td>-0.802774</td>\n",
       "      <td>True</td>\n",
       "    </tr>\n",
       "    <tr>\n",
       "      <th>4</th>\n",
       "      <td>Augmented Reality</td>\n",
       "      <td>4</td>\n",
       "      <td>0.000000</td>\n",
       "      <td>0.697624</td>\n",
       "      <td>True</td>\n",
       "      <td>-0.144762</td>\n",
       "      <td>False</td>\n",
       "    </tr>\n",
       "  </tbody>\n",
       "</table>\n",
       "</div>"
      ],
      "text/plain": [
       "       Visualisation  ImproveKnowledge  GeoHeight  LeoHeight  Close    SatNum  \\\n",
       "0  Augmented Reality                 3  -0.749744   1.679201   True -1.404834   \n",
       "1  Augmented Reality                 3   0.153346   0.105169   True -0.802774   \n",
       "2  Augmented Reality                 5   0.028408   0.202079  False -0.200714   \n",
       "3  Augmented Reality                 3   0.048177   1.397940   True -0.802774   \n",
       "4  Augmented Reality                 4   0.000000   0.697624   True -0.144762   \n",
       "\n",
       "   OrbitSpeed  \n",
       "0        True  \n",
       "1        True  \n",
       "2       False  \n",
       "3        True  \n",
       "4       False  "
      ]
     },
     "execution_count": 9,
     "metadata": {},
     "output_type": "execute_result"
    }
   ],
   "source": [
    "# Replace the multiple choice answers with True/False binaries\n",
    "\n",
    "pre_data_diff.Close = (pre_data_diff.Close == \"Speed up\")\n",
    "pre_data_diff.OrbitSpeed = (pre_data_diff.OrbitSpeed == \"Move faster\")\n",
    "\n",
    "post_data_diff.Close = (post_data_diff.Close == \"Speed up\")\n",
    "post_data_diff.OrbitSpeed = (post_data_diff.OrbitSpeed == \"Move faster\")\n",
    "\n",
    "post_data_diff.head()"
   ]
  },
  {
   "cell_type": "markdown",
   "id": "4d0e8d7c",
   "metadata": {},
   "source": [
    "Now that the data has been formatted to contain the differences of the logs, we can compare the AR and 2D visualisations using a T test for the numerical answers, and a Mann-Whitney U test for the categorical answers"
   ]
  },
  {
   "cell_type": "code",
   "execution_count": 10,
   "id": "1899cad2",
   "metadata": {},
   "outputs": [],
   "source": [
    "# Split into the 2 visualisation groups\n",
    "\n",
    "post_2d_diff = post_data_diff[post_data_diff['Visualisation']=='TAROT (2D)']\n",
    "post_ar_diff = post_data_diff[post_data_diff['Visualisation']=='Augmented Reality']\n"
   ]
  },
  {
   "cell_type": "code",
   "execution_count": 11,
   "id": "64e595ab",
   "metadata": {},
   "outputs": [
    {
     "data": {
      "image/png": "[encoded data removed]",
      "text/plain": [
       "<Figure size 640x480 with 1 Axes>"
      ]
     },
     "metadata": {},
     "output_type": "display_data"
    }
   ],
   "source": [
    "plt.boxplot([post_2d_diff['GeoHeight'], post_ar_diff['GeoHeight']])\n",
    "plt.xticks([1, 2], ['2D', 'AR'])\n",
    "\n",
    "plt.ylabel('Log of Geostationary Height Estimate')\n",
    "plt.xlabel('Visualisation Type')\n",
    "plt.title(\"Geostationary Height Estimate by Visualisation Type\")\n",
    "\n",
    "plt.ylim(-2, 1.5)\n",
    "plt.axhline(y=0, color='b', linestyle='-', alpha=0.25)\n",
    "\n",
    "plt.show()"
   ]
  },
  {
   "cell_type": "code",
   "execution_count": 12,
   "id": "78090974",
   "metadata": {},
   "outputs": [
    {
     "data": {
      "text/plain": [
       "Ttest_indResult(statistic=0.309460376904975, pvalue=0.7600210272106702)"
      ]
     },
     "execution_count": 12,
     "metadata": {},
     "output_type": "execute_result"
    }
   ],
   "source": [
    "# Perform the actual t test for the geostationary height\n",
    "ttest_ind(post_2d_diff['GeoHeight'], post_ar_diff['GeoHeight'], alternative=\"two-sided\")"
   ]
  },
  {
   "cell_type": "code",
   "execution_count": 13,
   "id": "849b476e",
   "metadata": {},
   "outputs": [
    {
     "data": {
      "image/png": "[encoded data removed]",
      "text/plain": [
       "<Figure size 640x480 with 1 Axes>"
      ]
     },
     "metadata": {},
     "output_type": "display_data"
    }
   ],
   "source": [
    "plt.boxplot([post_2d_diff['LeoHeight'], post_ar_diff['LeoHeight']])\n",
    "plt.xticks([1, 2], ['2D', 'AR'])\n",
    "\n",
    "plt.ylabel('Log of LEO Height Estimate')\n",
    "plt.xlabel('Visualisation Type')\n",
    "plt.title(\"LEO Height Estimate by Visualisation Type\")\n",
    "\n",
    "plt.ylim(-0.5, 4)\n",
    "plt.axhline(y=0, color='b', linestyle='-', alpha=0.25)\n",
    "\n",
    "plt.show()"
   ]
  },
  {
   "cell_type": "code",
   "execution_count": 14,
   "id": "aadbf232",
   "metadata": {},
   "outputs": [
    {
     "data": {
      "text/plain": [
       "Ttest_indResult(statistic=0.10129594417177896, pvalue=0.9202764750969769)"
      ]
     },
     "execution_count": 14,
     "metadata": {},
     "output_type": "execute_result"
    }
   ],
   "source": [
    "# Perform the actual t test for the low earth orbit height\n",
    "ttest_ind(post_2d_diff['LeoHeight'], post_ar_diff['LeoHeight'], alternative=\"two-sided\")"
   ]
  },
  {
   "cell_type": "code",
   "execution_count": 15,
   "id": "c893580f",
   "metadata": {},
   "outputs": [
    {
     "data": {
      "image/png": "[encoded data removed]",
      "text/plain": [
       "<Figure size 640x480 with 1 Axes>"
      ]
     },
     "metadata": {},
     "output_type": "display_data"
    }
   ],
   "source": [
    "plt.boxplot([post_2d_diff['SatNum'], post_ar_diff['SatNum']])\n",
    "plt.xticks([1, 2], ['2D', 'AR'])\n",
    "\n",
    "plt.ylabel('Log of Satellite Number Estimate')\n",
    "plt.xlabel('Visualisation Type')\n",
    "plt.title(\"Satellite Number Estimate by Visualisation Type\")\n",
    "\n",
    "plt.ylim(-2.5, 1.5)\n",
    "plt.axhline(y=0, color='b', linestyle='-', alpha=0.25)\n",
    "\n",
    "plt.show()"
   ]
  },
  {
   "cell_type": "code",
   "execution_count": 16,
   "id": "721f6e05",
   "metadata": {},
   "outputs": [
    {
     "data": {
      "text/plain": [
       "Ttest_indResult(statistic=1.266668058617863, pvalue=0.2191434707920235)"
      ]
     },
     "execution_count": 16,
     "metadata": {},
     "output_type": "execute_result"
    }
   ],
   "source": [
    "# Perform the actual t test for the number of satellites\n",
    "ttest_ind(post_2d_diff['SatNum'], post_ar_diff['SatNum'], alternative=\"two-sided\")"
   ]
  },
  {
   "cell_type": "markdown",
   "id": "3ef452ba",
   "metadata": {},
   "source": [
    "These three tests seem to indicate a lack of significant difference between the two populations in terms of the numerical answers."
   ]
  },
  {
   "cell_type": "code",
   "execution_count": 17,
   "id": "d9ac18f2",
   "metadata": {},
   "outputs": [
    {
     "data": {
      "text/plain": [
       "MannwhitneyuResult(statistic=50.0, pvalue=0.3469992115839471)"
      ]
     },
     "execution_count": 17,
     "metadata": {},
     "output_type": "execute_result"
    }
   ],
   "source": [
    "# Perform the actual test for the subjective knowledge rating\n",
    "mannwhitneyu(post_2d_diff['ImproveKnowledge'], post_ar_diff['ImproveKnowledge'], method=\"exact\")"
   ]
  },
  {
   "cell_type": "code",
   "execution_count": 18,
   "id": "39e72d49",
   "metadata": {},
   "outputs": [
    {
     "data": {
      "text/plain": [
       "MannwhitneyuResult(statistic=39.5, pvalue=0.11792810769792868)"
      ]
     },
     "execution_count": 18,
     "metadata": {},
     "output_type": "execute_result"
    }
   ],
   "source": [
    "# Perform the actual test for the closer satellite speed\n",
    "mannwhitneyu(post_2d_diff['Close'], post_ar_diff['Close'], method=\"exact\")"
   ]
  },
  {
   "cell_type": "code",
   "execution_count": 19,
   "id": "c13478c2",
   "metadata": {},
   "outputs": [
    {
     "data": {
      "text/plain": [
       "MannwhitneyuResult(statistic=74.5, pvalue=0.650549746390371)"
      ]
     },
     "execution_count": 19,
     "metadata": {},
     "output_type": "execute_result"
    }
   ],
   "source": [
    "# Perform the actual test for the variable orbit speed\n",
    "mannwhitneyu(post_2d_diff['OrbitSpeed'], post_ar_diff['OrbitSpeed'], method=\"exact\")"
   ]
  },
  {
   "cell_type": "markdown",
   "id": "4013c591",
   "metadata": {},
   "source": [
    "These three tests also indicate no significant difference between the two populations for any of the questions. This means that the current data does not display an observable difference between the 2D and AR populations. "
   ]
  },
  {
   "cell_type": "markdown",
   "id": "bba233cf",
   "metadata": {},
   "source": [
    "## Pre-Visualisation Comparison"
   ]
  },
  {
   "cell_type": "markdown",
   "id": "2f07c47d",
   "metadata": {},
   "source": [
    "With no results from the post-visualisation comparison"
   ]
  },
  {
   "cell_type": "code",
   "execution_count": 20,
   "id": "c6738d54",
   "metadata": {},
   "outputs": [],
   "source": [
    "# Split into the 2 visualisation groups\n",
    "\n",
    "pre_2d_diff = pre_data_diff[pre_data_diff['Visualisation']=='TAROT (2D)']\n",
    "pre_ar_diff = pre_data_diff[pre_data_diff['Visualisation']=='Augmented Reality']"
   ]
  },
  {
   "cell_type": "markdown",
   "id": "a9de93d7",
   "metadata": {},
   "source": [
    "### 2D Visualisation"
   ]
  },
  {
   "cell_type": "code",
   "execution_count": 21,
   "id": "e15a6a68",
   "metadata": {},
   "outputs": [
    {
     "data": {
      "image/png": "[encoded data removed]",
      "text/plain": [
       "<Figure size 640x480 with 1 Axes>"
      ]
     },
     "metadata": {},
     "output_type": "display_data"
    }
   ],
   "source": [
    "plt.boxplot([pre_2d_diff['GeoHeight'], post_2d_diff['GeoHeight']])\n",
    "plt.xticks([1, 2], ['Pre', 'Post'])\n",
    "\n",
    "plt.ylabel('Log of Geostationary Height Estimate')\n",
    "plt.xlabel('Pre or Post Visualisation')\n",
    "plt.title(\"Geostationary Height Estimate for 2D Visualisation\")\n",
    "\n",
    "plt.ylim(-2, 1.5)\n",
    "plt.axhline(y=0, color='b', linestyle='-', alpha=0.25)\n",
    "\n",
    "plt.show()"
   ]
  },
  {
   "cell_type": "code",
   "execution_count": 22,
   "id": "9676783a",
   "metadata": {},
   "outputs": [
    {
     "data": {
      "text/plain": [
       "Ttest_relResult(statistic=0.42847488000330974, pvalue=0.6765751447606401)"
      ]
     },
     "execution_count": 22,
     "metadata": {},
     "output_type": "execute_result"
    }
   ],
   "source": [
    "# Perform the actual t test for the geostationary height\n",
    "ttest_rel(pre_2d_diff['GeoHeight'], post_2d_diff['GeoHeight'], alternative=\"two-sided\")"
   ]
  },
  {
   "cell_type": "code",
   "execution_count": 23,
   "id": "99528724",
   "metadata": {},
   "outputs": [
    {
     "data": {
      "image/png": "[encoded data removed]",
      "text/plain": [
       "<Figure size 640x480 with 1 Axes>"
      ]
     },
     "metadata": {},
     "output_type": "display_data"
    }
   ],
   "source": [
    "plt.boxplot([pre_2d_diff['LeoHeight'], post_2d_diff['LeoHeight']])\n",
    "plt.xticks([1, 2], ['Pre', 'Post'])\n",
    "\n",
    "plt.ylabel('Log of LEO Height Estimate')\n",
    "plt.xlabel('Pre or Post Visualisation')\n",
    "plt.title(\"LEO Height Estimate for 2D Visualisation\")\n",
    "\n",
    "plt.ylim(-0.5, 4.5)\n",
    "plt.axhline(y=0, color='b', linestyle='-', alpha=0.25)\n",
    "\n",
    "plt.show()"
   ]
  },
  {
   "cell_type": "code",
   "execution_count": 24,
   "id": "725250cc",
   "metadata": {},
   "outputs": [
    {
     "data": {
      "text/plain": [
       "Ttest_relResult(statistic=2.204228938261834, pvalue=0.04971746491590412)"
      ]
     },
     "execution_count": 24,
     "metadata": {},
     "output_type": "execute_result"
    }
   ],
   "source": [
    "# Perform the actual t test for the LEO height\n",
    "ttest_rel(pre_2d_diff['LeoHeight'], post_2d_diff['LeoHeight'], alternative=\"two-sided\")"
   ]
  },
  {
   "cell_type": "code",
   "execution_count": 25,
   "id": "e728da4e",
   "metadata": {},
   "outputs": [
    {
     "data": {
      "image/png": "[encoded data removed]",
      "text/plain": [
       "<Figure size 640x480 with 1 Axes>"
      ]
     },
     "metadata": {},
     "output_type": "display_data"
    }
   ],
   "source": [
    "plt.boxplot([pre_2d_diff['SatNum'], post_2d_diff['SatNum']])\n",
    "plt.xticks([1, 2], ['Pre', 'Post'])\n",
    "\n",
    "plt.ylabel('Log of Satellite Number Estimate')\n",
    "plt.xlabel('Pre or Post Visualisation')\n",
    "plt.title(\"Satellite Number Estimate for 2D Visualisation\")\n",
    "\n",
    "plt.ylim(-3, 1.5)\n",
    "plt.axhline(y=0, color='b', linestyle='-', alpha=0.25)\n",
    "\n",
    "plt.show()"
   ]
  },
  {
   "cell_type": "code",
   "execution_count": 26,
   "id": "7e2f4575",
   "metadata": {},
   "outputs": [
    {
     "data": {
      "text/plain": [
       "Ttest_relResult(statistic=-3.1185279313259344, pvalue=0.009775623500227256)"
      ]
     },
     "execution_count": 26,
     "metadata": {},
     "output_type": "execute_result"
    }
   ],
   "source": [
    "# Perform the actual t test for the number of satellites\n",
    "ttest_rel(pre_2d_diff['SatNum'], post_2d_diff['SatNum'], alternative=\"two-sided\")"
   ]
  },
  {
   "cell_type": "code",
   "execution_count": 27,
   "id": "22986da7",
   "metadata": {},
   "outputs": [
    {
     "ename": "TypeError",
     "evalue": "numpy boolean subtract, the `-` operator, is not supported, use the bitwise_xor, the `^` operator, or the logical_xor function instead.",
     "output_type": "error",
     "traceback": [
      "\u001b[1;31m---------------------------------------------------------------------------\u001b[0m",
      "\u001b[1;31mTypeError\u001b[0m                                 Traceback (most recent call last)",
      "Cell \u001b[1;32mIn [27], line 2\u001b[0m\n\u001b[0;32m      1\u001b[0m \u001b[38;5;66;03m# Perform the actual test for the closer satellite speed\u001b[39;00m\n\u001b[1;32m----> 2\u001b[0m wilcoxon(pre_2d_diff[\u001b[38;5;124m'\u001b[39m\u001b[38;5;124mClose\u001b[39m\u001b[38;5;124m'\u001b[39m], post_2d_diff[\u001b[38;5;124m'\u001b[39m\u001b[38;5;124mClose\u001b[39m\u001b[38;5;124m'\u001b[39m])\n",
      "File \u001b[1;32mC:\\Python310\\lib\\site-packages\\scipy\\_lib\\_util.py:702\u001b[0m, in \u001b[0;36m_rename_parameter.<locals>.decorator.<locals>.wrapper\u001b[1;34m(*args, **kwargs)\u001b[0m\n\u001b[0;32m    700\u001b[0m         \u001b[38;5;28;01mraise\u001b[39;00m \u001b[38;5;167;01mTypeError\u001b[39;00m(message)\n\u001b[0;32m    701\u001b[0m     kwargs[new_name] \u001b[38;5;241m=\u001b[39m kwargs\u001b[38;5;241m.\u001b[39mpop(old_name)\n\u001b[1;32m--> 702\u001b[0m \u001b[38;5;28;01mreturn\u001b[39;00m fun(\u001b[38;5;241m*\u001b[39margs, \u001b[38;5;241m*\u001b[39m\u001b[38;5;241m*\u001b[39mkwargs)\n",
      "File \u001b[1;32mC:\\Python310\\lib\\site-packages\\scipy\\stats\\_axis_nan_policy.py:503\u001b[0m, in \u001b[0;36m_axis_nan_policy_factory.<locals>.axis_nan_policy_decorator.<locals>.axis_nan_policy_wrapper\u001b[1;34m(***failed resolving arguments***)\u001b[0m\n\u001b[0;32m    501\u001b[0m \u001b[38;5;28;01mif\u001b[39;00m sentinel:\n\u001b[0;32m    502\u001b[0m     samples \u001b[38;5;241m=\u001b[39m _remove_sentinel(samples, paired, sentinel)\n\u001b[1;32m--> 503\u001b[0m res \u001b[38;5;241m=\u001b[39m hypotest_fun_out(\u001b[38;5;241m*\u001b[39msamples, \u001b[38;5;241m*\u001b[39m\u001b[38;5;241m*\u001b[39mkwds)\n\u001b[0;32m    504\u001b[0m res \u001b[38;5;241m=\u001b[39m result_to_tuple(res)\n\u001b[0;32m    505\u001b[0m res \u001b[38;5;241m=\u001b[39m _add_reduced_axes(res, reduced_axes, keepdims)\n",
      "File \u001b[1;32mC:\\Python310\\lib\\site-packages\\scipy\\stats\\_morestats.py:3238\u001b[0m, in \u001b[0;36mwilcoxon\u001b[1;34m(x, y, zero_method, correction, alternative, method)\u001b[0m\n\u001b[0;32m   3236\u001b[0m     \u001b[38;5;28;01mif\u001b[39;00m \u001b[38;5;28mlen\u001b[39m(x) \u001b[38;5;241m!=\u001b[39m \u001b[38;5;28mlen\u001b[39m(y):\n\u001b[0;32m   3237\u001b[0m         \u001b[38;5;28;01mraise\u001b[39;00m \u001b[38;5;167;01mValueError\u001b[39;00m(\u001b[38;5;124m'\u001b[39m\u001b[38;5;124mThe samples x and y must have the same length.\u001b[39m\u001b[38;5;124m'\u001b[39m)\n\u001b[1;32m-> 3238\u001b[0m     d \u001b[38;5;241m=\u001b[39m \u001b[43mx\u001b[49m\u001b[43m \u001b[49m\u001b[38;5;241;43m-\u001b[39;49m\u001b[43m \u001b[49m\u001b[43my\u001b[49m\n\u001b[0;32m   3240\u001b[0m \u001b[38;5;28;01mif\u001b[39;00m \u001b[38;5;28mlen\u001b[39m(d) \u001b[38;5;241m==\u001b[39m \u001b[38;5;241m0\u001b[39m:\n\u001b[0;32m   3241\u001b[0m     res \u001b[38;5;241m=\u001b[39m WilcoxonResult(np\u001b[38;5;241m.\u001b[39mnan, np\u001b[38;5;241m.\u001b[39mnan)\n",
      "\u001b[1;31mTypeError\u001b[0m: numpy boolean subtract, the `-` operator, is not supported, use the bitwise_xor, the `^` operator, or the logical_xor function instead."
     ]
    }
   ],
   "source": [
    "# Perform the actual test for the closer satellite speed\n",
    "mannwhitneyu(post_2d_diff['OrbitSpeed'], post_ar_diff['OrbitSpeed'], method=\"exact\")"
   ]
  },
  {
   "cell_type": "markdown",
   "id": "820720ee",
   "metadata": {},
   "source": [
    "### AR Visualisation"
   ]
  },
  {
   "cell_type": "code",
   "execution_count": null,
   "id": "9052e947",
   "metadata": {},
   "outputs": [],
   "source": [
    "plt.boxplot([pre_ar_diff['GeoHeight'], post_ar_diff['GeoHeight']])\n",
    "plt.xticks([1, 2], ['Pre', 'Post'])\n",
    "\n",
    "plt.ylabel('Log of Geostationary Height Estimate')\n",
    "plt.xlabel('Pre or Post Visualisation')\n",
    "plt.title(\"Geostationary Height Estimate for AR Visualisation\")\n",
    "\n",
    "plt.ylim(-2.5, 1.5)\n",
    "plt.axhline(y=0, color='b', linestyle='-', alpha=0.25)\n",
    "\n",
    "plt.show()"
   ]
  },
  {
   "cell_type": "code",
   "execution_count": null,
   "id": "6c052b1b",
   "metadata": {},
   "outputs": [],
   "source": [
    "# Perform the actual t test for the geostationary height\n",
    "ttest_rel(pre_ar_diff['GeoHeight'], post_ar_diff['GeoHeight'], alternative=\"two-sided\")"
   ]
  },
  {
   "cell_type": "code",
   "execution_count": null,
   "id": "148e7564",
   "metadata": {},
   "outputs": [],
   "source": [
    "plt.boxplot([pre_ar_diff['LeoHeight'], post_ar_diff['LeoHeight']])\n",
    "plt.xticks([1, 2], ['Pre', 'Post'])\n",
    "\n",
    "plt.ylabel('Log of LEO Height Estimate')\n",
    "plt.xlabel('Pre or Post Visualisation')\n",
    "plt.title(\"LEO Height Estimate for AR Visualisation\")\n",
    "\n",
    "plt.ylim(-0.5, 4.5)\n",
    "plt.axhline(y=0, color='b', linestyle='-', alpha=0.25)\n",
    "\n",
    "plt.show()"
   ]
  },
  {
   "cell_type": "code",
   "execution_count": null,
   "id": "1370a0b9",
   "metadata": {},
   "outputs": [],
   "source": [
    "# Perform the actual t test for the LEO height\n",
    "ttest_rel(pre_ar_diff['LeoHeight'], post_ar_diff['LeoHeight'], alternative=\"two-sided\")"
   ]
  },
  {
   "cell_type": "code",
   "execution_count": null,
   "id": "0a9df61f",
   "metadata": {},
   "outputs": [],
   "source": [
    "plt.boxplot([pre_ar_diff['SatNum'], post_ar_diff['SatNum']])\n",
    "plt.xticks([1, 2], ['Pre', 'Post'])\n",
    "\n",
    "plt.ylabel('Log of Satellite Number Estimate')\n",
    "plt.xlabel('Pre or Post Visualisation')\n",
    "plt.title(\"Satellite Number Estimate for AR Visualisation\")\n",
    "\n",
    "plt.ylim(-3, 1.5)\n",
    "plt.axhline(y=0, color='b', linestyle='-', alpha=0.25)\n",
    "\n",
    "plt.show()"
   ]
  },
  {
   "cell_type": "code",
   "execution_count": null,
   "id": "8c837236",
   "metadata": {},
   "outputs": [],
   "source": [
    "# Perform the actual t test for the number of satellites\n",
    "ttest_rel(pre_ar_diff['SatNum'], post_ar_diff['SatNum'], alternative=\"two-sided\")"
   ]
  }
 ],
 "metadata": {
  "kernelspec": {
   "display_name": "Python 3 (ipykernel)",
   "language": "python",
   "name": "python3"
  },
  "language_info": {
   "codemirror_mode": {
    "name": "ipython",
    "version": 3
   },
   "file_extension": ".py",
   "mimetype": "text/x-python",
   "name": "python",
   "nbconvert_exporter": "python",
   "pygments_lexer": "ipython3",
   "version": "3.10.2"
  }
 },
 "nbformat": 4,
 "nbformat_minor": 5
}
